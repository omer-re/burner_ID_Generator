{
  "nbformat": 4,
  "nbformat_minor": 0,
  "metadata": {
    "colab": {
      "name": "rand_id.ipynb",
      "provenance": [],
      "authorship_tag": "ABX9TyOr4bVMJNMXGgPevjwohObh",
      "include_colab_link": true
    },
    "kernelspec": {
      "name": "python3",
      "display_name": "Python 3"
    },
    "language_info": {
      "name": "python"
    },
    "widgets": {
      "application/vnd.jupyter.widget-state+json": {
        "d1df673ab8a646729f7937eed4abd9aa": {
          "model_module": "@jupyter-widgets/controls",
          "model_name": "ButtonModel",
          "model_module_version": "1.5.0",
          "state": {
            "_dom_classes": [],
            "_model_module": "@jupyter-widgets/controls",
            "_model_module_version": "1.5.0",
            "_model_name": "ButtonModel",
            "_view_count": null,
            "_view_module": "@jupyter-widgets/controls",
            "_view_module_version": "1.5.0",
            "_view_name": "ButtonView",
            "button_style": "",
            "description": "תמציא לי מספר",
            "disabled": false,
            "icon": "",
            "layout": "IPY_MODEL_809cdab5440548a0bff8af3e51408592",
            "style": "IPY_MODEL_ef544abe56cb443190a0460a6719988e",
            "tooltip": ""
          }
        },
        "809cdab5440548a0bff8af3e51408592": {
          "model_module": "@jupyter-widgets/base",
          "model_name": "LayoutModel",
          "model_module_version": "1.2.0",
          "state": {
            "_model_module": "@jupyter-widgets/base",
            "_model_module_version": "1.2.0",
            "_model_name": "LayoutModel",
            "_view_count": null,
            "_view_module": "@jupyter-widgets/base",
            "_view_module_version": "1.2.0",
            "_view_name": "LayoutView",
            "align_content": null,
            "align_items": null,
            "align_self": null,
            "border": null,
            "bottom": null,
            "display": null,
            "flex": null,
            "flex_flow": null,
            "grid_area": null,
            "grid_auto_columns": null,
            "grid_auto_flow": null,
            "grid_auto_rows": null,
            "grid_column": null,
            "grid_gap": null,
            "grid_row": null,
            "grid_template_areas": null,
            "grid_template_columns": null,
            "grid_template_rows": null,
            "height": null,
            "justify_content": null,
            "justify_items": null,
            "left": null,
            "margin": null,
            "max_height": null,
            "max_width": null,
            "min_height": null,
            "min_width": null,
            "object_fit": null,
            "object_position": null,
            "order": null,
            "overflow": null,
            "overflow_x": null,
            "overflow_y": null,
            "padding": null,
            "right": null,
            "top": null,
            "visibility": null,
            "width": null
          }
        },
        "ef544abe56cb443190a0460a6719988e": {
          "model_module": "@jupyter-widgets/controls",
          "model_name": "ButtonStyleModel",
          "model_module_version": "1.5.0",
          "state": {
            "_model_module": "@jupyter-widgets/controls",
            "_model_module_version": "1.5.0",
            "_model_name": "ButtonStyleModel",
            "_view_count": null,
            "_view_module": "@jupyter-widgets/base",
            "_view_module_version": "1.2.0",
            "_view_name": "StyleView",
            "button_color": null,
            "font_weight": ""
          }
        }
      }
    }
  },
  "cells": [
    {
      "cell_type": "markdown",
      "metadata": {
        "id": "view-in-github",
        "colab_type": "text"
      },
      "source": [
        "<a href=\"https://colab.research.google.com/github/omer-re/burner_ID_Generator/blob/main/rand_id.ipynb\" target=\"_parent\"><img src=\"https://colab.research.google.com/assets/colab-badge.svg\" alt=\"Open In Colab\"/></a>"
      ]
    },
    {
      "cell_type": "code",
      "source": [
        "from itertools import cycle\n",
        "import random\n",
        "from ipywidgets import widgets\n",
        "from IPython.display import display\n",
        "import random\n",
        "\n",
        "def control_number(swedish_id):\n",
        "    \"\"\"Calculate control number in Swedish personal IDs\n",
        "\n",
        "    :param swedish_id: A Swedish personal ID\n",
        "    :type swedish_id: str\n",
        "\n",
        "    \"\"\"\n",
        "    if (type(swedish_id)!=str):\n",
        "        swedish_id=str(swedish_id)\n",
        "\n",
        "    assert swedish_id.isdigit()\n",
        "    assert len(swedish_id) == 8\n",
        "\n",
        "    # Multiplication factors for each digit depending on its position\n",
        "    mult_factors = cycle([1, 2])\n",
        "\n",
        "    def partial_sum(number, mult_factor):\n",
        "        \"\"\"Calculate partial sum ofr a single digit.\"\"\"\n",
        "        quotient, remainder = divmod(number * mult_factor, 10)\n",
        "        return quotient + remainder\n",
        "\n",
        "    final_sum = sum(\n",
        "        partial_sum(int(character), mult_factor)\n",
        "        for character, mult_factor in zip(swedish_id, mult_factors)\n",
        "        )\n",
        "\n",
        "    # Calculate control number based on partial sums\n",
        "    control_number = -final_sum % 10\n",
        "\n",
        "    return control_number\n",
        "\n"
      ],
      "metadata": {
        "id": "Ba4iYMj8Bjyc"
      },
      "execution_count": 20,
      "outputs": []
    },
    {
      "cell_type": "code",
      "source": [
        "btn = widgets.Button(description='המצא לי מספר')\n",
        "def button_eventhandler(obj):\n",
        "    random_number = random.randint(10000000,99999999)\n",
        "    control_dig=control_number(random_number)\n",
        "    valid_id= str(random_number)+str(control_dig)\n",
        "    print(\"Your random ID number is: \"+valid_id)\n",
        "    #print('Hello from the {} button!'.format(obj.description))\n",
        "btn.on_click(button_eventhandler)\n",
        "display(btn)"
      ],
      "metadata": {
        "colab": {
          "base_uri": "https://localhost:8080/",
          "height": 68,
          "referenced_widgets": [
            "d1df673ab8a646729f7937eed4abd9aa",
            "809cdab5440548a0bff8af3e51408592",
            "ef544abe56cb443190a0460a6719988e"
          ]
        },
        "id": "DF4Vl7zU6NgS",
        "outputId": "fb43fa40-a412-4a2e-89a7-9481921e9402"
      },
      "execution_count": 21,
      "outputs": [
        {
          "output_type": "display_data",
          "data": {
            "text/plain": [
              "Button(description='תמציא לי מספר', style=ButtonStyle())"
            ],
            "application/vnd.jupyter.widget-view+json": {
              "version_major": 2,
              "version_minor": 0,
              "model_id": "d1df673ab8a646729f7937eed4abd9aa"
            }
          },
          "metadata": {}
        },
        {
          "output_type": "stream",
          "name": "stdout",
          "text": [
            "Your random ID number is: 352124556\n"
          ]
        }
      ]
    }
  ]
}