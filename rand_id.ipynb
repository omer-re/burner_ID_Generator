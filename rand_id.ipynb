{
  "nbformat": 4,
  "nbformat_minor": 0,
  "metadata": {
    "colab": {
      "name": "rand_id.ipynb",
      "provenance": [],
      "authorship_tag": "ABX9TyMqdCeCyM0xtSH1QkzebY7N",
      "include_colab_link": true
    },
    "kernelspec": {
      "name": "python3",
      "display_name": "Python 3"
    },
    "language_info": {
      "name": "python"
    },
    "widgets": {
      "application/vnd.jupyter.widget-state+json": {
        "f2a6e333b51b429da530d487b25ebd93": {
          "model_module": "@jupyter-widgets/controls",
          "model_name": "ButtonModel",
          "model_module_version": "1.5.0",
          "state": {
            "_dom_classes": [],
            "_model_module": "@jupyter-widgets/controls",
            "_model_module_version": "1.5.0",
            "_model_name": "ButtonModel",
            "_view_count": null,
            "_view_module": "@jupyter-widgets/controls",
            "_view_module_version": "1.5.0",
            "_view_name": "ButtonView",
            "button_style": "",
            "description": "המצא לי מספר",
            "disabled": false,
            "icon": "",
            "layout": "IPY_MODEL_ec2604b1892144898b8499d9b4337c53",
            "style": "IPY_MODEL_08ef65199f0343b0819ab6641a5cad95",
            "tooltip": ""
          }
        },
        "ec2604b1892144898b8499d9b4337c53": {
          "model_module": "@jupyter-widgets/base",
          "model_name": "LayoutModel",
          "model_module_version": "1.2.0",
          "state": {
            "_model_module": "@jupyter-widgets/base",
            "_model_module_version": "1.2.0",
            "_model_name": "LayoutModel",
            "_view_count": null,
            "_view_module": "@jupyter-widgets/base",
            "_view_module_version": "1.2.0",
            "_view_name": "LayoutView",
            "align_content": null,
            "align_items": null,
            "align_self": null,
            "border": null,
            "bottom": null,
            "display": null,
            "flex": null,
            "flex_flow": null,
            "grid_area": null,
            "grid_auto_columns": null,
            "grid_auto_flow": null,
            "grid_auto_rows": null,
            "grid_column": null,
            "grid_gap": null,
            "grid_row": null,
            "grid_template_areas": null,
            "grid_template_columns": null,
            "grid_template_rows": null,
            "height": null,
            "justify_content": null,
            "justify_items": null,
            "left": null,
            "margin": null,
            "max_height": null,
            "max_width": null,
            "min_height": null,
            "min_width": null,
            "object_fit": null,
            "object_position": null,
            "order": null,
            "overflow": null,
            "overflow_x": null,
            "overflow_y": null,
            "padding": null,
            "right": null,
            "top": null,
            "visibility": null,
            "width": null
          }
        },
        "08ef65199f0343b0819ab6641a5cad95": {
          "model_module": "@jupyter-widgets/controls",
          "model_name": "ButtonStyleModel",
          "model_module_version": "1.5.0",
          "state": {
            "_model_module": "@jupyter-widgets/controls",
            "_model_module_version": "1.5.0",
            "_model_name": "ButtonStyleModel",
            "_view_count": null,
            "_view_module": "@jupyter-widgets/base",
            "_view_module_version": "1.2.0",
            "_view_name": "StyleView",
            "button_color": null,
            "font_weight": ""
          }
        }
      }
    }
  },
  "cells": [
    {
      "cell_type": "markdown",
      "metadata": {
        "id": "view-in-github",
        "colab_type": "text"
      },
      "source": [
        "<a href=\"https://colab.research.google.com/github/omer-re/burner_ID_Generator/blob/main/rand_id.ipynb\" target=\"_parent\"><img src=\"https://colab.research.google.com/assets/colab-badge.svg\" alt=\"Open In Colab\"/></a>"
      ]
    },
    {
      "cell_type": "markdown",
      "source": [
        "# לא בטוחים מה לעשות?\n",
        "# לחצו על\n",
        "# control+F9\n",
        "# ותנו לזה לרוץ.\n",
        "# כשיופיע בתחתית העמוד כפתור בשם \"המצא לי מספר\"  >>> לחצו עליו"
      ],
      "metadata": {
        "id": "xtBvUhkTlT6R"
      }
    },
    {
      "cell_type": "code",
      "source": [
        "from itertools import cycle\n",
        "import random\n",
        "from ipywidgets import widgets\n",
        "from IPython.display import display\n",
        "import random\n",
        "\n",
        "def control_number(swedish_id):\n",
        "    \"\"\"Calculate control number in Swedish personal IDs\n",
        "\n",
        "    :param swedish_id: A Swedish personal ID\n",
        "    :type swedish_id: str\n",
        "\n",
        "    \"\"\"\n",
        "    if (type(swedish_id)!=str):\n",
        "        swedish_id=str(swedish_id)\n",
        "\n",
        "    assert swedish_id.isdigit()\n",
        "    assert len(swedish_id) == 8\n",
        "\n",
        "    # Multiplication factors for each digit depending on its position\n",
        "    mult_factors = cycle([1, 2])\n",
        "\n",
        "    def partial_sum(number, mult_factor):\n",
        "        \"\"\"Calculate partial sum ofr a single digit.\"\"\"\n",
        "        quotient, remainder = divmod(number * mult_factor, 10)\n",
        "        return quotient + remainder\n",
        "\n",
        "    final_sum = sum(\n",
        "        partial_sum(int(character), mult_factor)\n",
        "        for character, mult_factor in zip(swedish_id, mult_factors)\n",
        "        )\n",
        "\n",
        "    # Calculate control number based on partial sums\n",
        "    control_number = -final_sum % 10\n",
        "\n",
        "    return control_number\n",
        "\n",
        "btn = widgets.Button(description='המצא לי מספר')\n",
        "def button_eventhandler(obj=0):\n",
        "    random_number = random.randint(10000000,99999999)\n",
        "    control_dig=control_number(random_number)\n",
        "    valid_id= str(random_number)+str(control_dig)\n",
        "    print(\"Your random ID number is: \"+valid_id)\n",
        "\n",
        "button_eventhandler()"
      ],
      "metadata": {
        "id": "Ba4iYMj8Bjyc"
      },
      "execution_count": null,
      "outputs": []
    },
    {
      "cell_type": "code",
      "source": [
        "btn.on_click(button_eventhandler)\n",
        "display(btn)"
      ],
      "metadata": {
        "colab": {
          "base_uri": "https://localhost:8080/",
          "height": 49,
          "referenced_widgets": [
            "f2a6e333b51b429da530d487b25ebd93",
            "ec2604b1892144898b8499d9b4337c53",
            "08ef65199f0343b0819ab6641a5cad95"
          ]
        },
        "id": "DF4Vl7zU6NgS",
        "outputId": "ae9c6abd-b3f9-4144-c1cf-901de2d9d560"
      },
      "execution_count": null,
      "outputs": [
        {
          "output_type": "display_data",
          "data": {
            "text/plain": [
              "Button(description='המצא לי מספר', style=ButtonStyle())"
            ],
            "application/vnd.jupyter.widget-view+json": {
              "version_major": 2,
              "version_minor": 0,
              "model_id": "f2a6e333b51b429da530d487b25ebd93"
            }
          },
          "metadata": {}
        }
      ]
    },
    {
      "cell_type": "markdown",
      "source": [
        "Generate an asy to remember numbers"
      ],
      "metadata": {
        "id": "M7n6FEPNct4a"
      }
    },
    {
      "cell_type": "code",
      "source": [
        "from itertools import cycle\n",
        "import random\n",
        "from ipywidgets import widgets\n",
        "from IPython.display import display\n",
        "\n",
        "def control_number(swedish_id):\n",
        "    \"\"\"Calculate control number in Swedish personal IDs.\"\"\"\n",
        "    if not isinstance(swedish_id, str):\n",
        "        swedish_id = str(swedish_id)\n",
        "\n",
        "    assert swedish_id.isdigit(), \"Swedish ID must contain only digits\"\n",
        "    assert len(swedish_id) == 8, \"Swedish ID must be 8 digits long\"\n",
        "\n",
        "    mult_factors = cycle([1, 2])  # Multiplication factors for each digit\n",
        "\n",
        "    def partial_sum(number, mult_factor):\n",
        "        \"\"\"Calculate partial sum for a single digit.\"\"\"\n",
        "        quotient, remainder = divmod(number * mult_factor, 10)\n",
        "        return quotient + remainder\n",
        "\n",
        "    final_sum = sum(partial_sum(int(character), mult_factor) for character, mult_factor in zip(swedish_id, mult_factors))\n",
        "\n",
        "    # Calculate control number based on partial sums\n",
        "    control_number = (-final_sum) % 10\n",
        "    return control_number\n",
        "\n",
        "def button_eventhandler(obj=0):\n",
        "    # Generate an ID with exactly 2 unique digits\n",
        "    digit1, digit2 = random.sample(range(10), 2)  # Ensure two unique digits are chosen\n",
        "    pattern = [digit1, digit2] * 4  # Repeat the pattern to fill the ID\n",
        "    random.shuffle(pattern)  # Shuffle to ensure randomness while keeping the constraint\n",
        "    id_sequence = ''.join(map(str, pattern))  # Convert to string\n",
        "    control_dig = control_number(id_sequence)\n",
        "    valid_id = id_sequence + str(control_dig)\n",
        "    print(\"Your easy-to-remember ID number with 2 unique digits is: \" + valid_id)\n",
        "\n",
        "def button_eventhandler_2uniqueDigits(obj=0):\n",
        "    valid_id_found = False\n",
        "    while not valid_id_found:\n",
        "        digit1, digit2 = random.sample(range(10), 2)  # Ensure two unique digits are chosen\n",
        "        pattern = [digit1, digit2] * 4  # Repeat the pattern to fill the ID\n",
        "        random.shuffle(pattern)  # Shuffle to ensure randomness while keeping the constraint\n",
        "        id_sequence = ''.join(map(str, pattern))  # Convert to string\n",
        "        control_dig = control_number(id_sequence)\n",
        "\n",
        "        # Check if the control digit is one of the two unique digits\n",
        "        if control_dig in [digit1, digit2]:\n",
        "            valid_id = id_sequence + str(control_dig)\n",
        "            print(\"Your easy-to-remember ID number with 2 unique digits is: \" + valid_id)\n",
        "            valid_id_found = True\n",
        "\n",
        "# Example of using the modified function\n",
        "for i in range (10):\n",
        "    button_eventhandler()\n"
      ],
      "metadata": {
        "id": "T5RJWYCNad_P",
        "outputId": "7a0dd511-fadc-4ba4-8f07-4ff8c554c3c6",
        "colab": {
          "base_uri": "https://localhost:8080/"
        }
      },
      "execution_count": 1,
      "outputs": [
        {
          "output_type": "stream",
          "name": "stdout",
          "text": [
            "Your easy-to-remember ID number with 2 unique digits is: 474474772\n",
            "Your easy-to-remember ID number with 2 unique digits is: 668888662\n",
            "Your easy-to-remember ID number with 2 unique digits is: 616616116\n",
            "Your easy-to-remember ID number with 2 unique digits is: 006660062\n",
            "Your easy-to-remember ID number with 2 unique digits is: 757575758\n",
            "Your easy-to-remember ID number with 2 unique digits is: 588855585\n",
            "Your easy-to-remember ID number with 2 unique digits is: 111313334\n",
            "Your easy-to-remember ID number with 2 unique digits is: 277277224\n",
            "Your easy-to-remember ID number with 2 unique digits is: 888999893\n",
            "Your easy-to-remember ID number with 2 unique digits is: 333666360\n"
          ]
        }
      ]
    },
    {
      "cell_type": "code",
      "source": [
        "import random\n",
        "\n",
        "def control_number(nine_digit_id):\n",
        "    \"\"\"Calculate control number using a modulo check for simplicity.\"\"\"\n",
        "    assert isinstance(nine_digit_id, str), \"ID must be a string\"\n",
        "    assert nine_digit_id.isdigit(), \"ID must contain only digits\"\n",
        "    assert len(nine_digit_id) == 9, \"ID must be 9 digits long\"\n",
        "\n",
        "    # Simple checksum: Sum of digits modulo 10 should be 0\n",
        "    sum_digits = sum(int(digit) for digit in nine_digit_id)\n",
        "    return sum_digits % 10 == 0\n",
        "\n",
        "def generate_repeated_sequence_id():\n",
        "    while True:\n",
        "        base_digits = str(random.randint(100, 999))  # Generate a random 3-digit number\n",
        "        repeated_sequence = base_digits * 3  # Repeat it three times to form a 9-digit sequence\n",
        "\n",
        "        # Check if the generated ID has a valid checksum\n",
        "        if control_number(repeated_sequence):\n",
        "            return repeated_sequence  # If checksum is valid, return the ID\n",
        "\n",
        "        # Optionally, check the control by adjusting the last digit if needed\n",
        "        # This is not typically needed since we want a pure repeat without modification\n",
        "\n",
        "def button_eventhandler_repeatedDigits(obj=0):\n",
        "    valid_id = generate_repeated_sequence_id()\n",
        "    print(\"Your ID number with repeated 3-digit sequence is: \" + valid_id)\n",
        "\n",
        "# Example usage\n",
        "for i in range (10):\n",
        "    button_eventhandler_repeatedDigits()\n"
      ],
      "metadata": {
        "id": "CIeLNE3I9TLs",
        "outputId": "1d4534e8-eb4f-4adf-8686-13fb08864535",
        "colab": {
          "base_uri": "https://localhost:8080/"
        }
      },
      "execution_count": 6,
      "outputs": [
        {
          "output_type": "stream",
          "name": "stdout",
          "text": [
            "Your ID number with repeated 3-digit sequence is: 451451451\n",
            "Your ID number with repeated 3-digit sequence is: 956956956\n",
            "Your ID number with repeated 3-digit sequence is: 893893893\n",
            "Your ID number with repeated 3-digit sequence is: 965965965\n",
            "Your ID number with repeated 3-digit sequence is: 208208208\n",
            "Your ID number with repeated 3-digit sequence is: 497497497\n",
            "Your ID number with repeated 3-digit sequence is: 983983983\n",
            "Your ID number with repeated 3-digit sequence is: 514514514\n",
            "Your ID number with repeated 3-digit sequence is: 947947947\n",
            "Your ID number with repeated 3-digit sequence is: 965965965\n"
          ]
        }
      ]
    }
  ]
}